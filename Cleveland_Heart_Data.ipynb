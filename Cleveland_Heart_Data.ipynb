{
 "cells": [
  {
   "cell_type": "code",
   "execution_count": 2,
   "id": "795a5964-7134-4476-b355-78c6228e8ee9",
   "metadata": {},
   "outputs": [
    {
     "name": "stderr",
     "output_type": "stream",
     "text": [
      "── \u001b[1mAttaching packages\u001b[22m ─────────────────────────────────────── tidyverse 1.3.1 ──\n",
      "\n",
      "\u001b[32m✔\u001b[39m \u001b[34mggplot2\u001b[39m 3.3.6     \u001b[32m✔\u001b[39m \u001b[34mpurrr  \u001b[39m 0.3.4\n",
      "\u001b[32m✔\u001b[39m \u001b[34mtibble \u001b[39m 3.1.7     \u001b[32m✔\u001b[39m \u001b[34mdplyr  \u001b[39m 1.0.9\n",
      "\u001b[32m✔\u001b[39m \u001b[34mtidyr  \u001b[39m 1.2.0     \u001b[32m✔\u001b[39m \u001b[34mstringr\u001b[39m 1.4.0\n",
      "\u001b[32m✔\u001b[39m \u001b[34mreadr  \u001b[39m 2.1.2     \u001b[32m✔\u001b[39m \u001b[34mforcats\u001b[39m 0.5.1\n",
      "\n",
      "── \u001b[1mConflicts\u001b[22m ────────────────────────────────────────── tidyverse_conflicts() ──\n",
      "\u001b[31m✖\u001b[39m \u001b[34mdplyr\u001b[39m::\u001b[32mfilter()\u001b[39m masks \u001b[34mstats\u001b[39m::filter()\n",
      "\u001b[31m✖\u001b[39m \u001b[34mdplyr\u001b[39m::\u001b[32mlag()\u001b[39m    masks \u001b[34mstats\u001b[39m::lag()\n",
      "\n",
      "\n",
      "Attaching package: ‘rvest’\n",
      "\n",
      "\n",
      "The following object is masked from ‘package:readr’:\n",
      "\n",
      "    guess_encoding\n",
      "\n",
      "\n",
      "Warning message in file(filename, \"r\", encoding = encoding):\n",
      "“cannot open file 'tests.R': No such file or directory”\n"
     ]
    },
    {
     "ename": "ERROR",
     "evalue": "Error in file(filename, \"r\", encoding = encoding): cannot open the connection\n",
     "output_type": "error",
     "traceback": [
      "Error in file(filename, \"r\", encoding = encoding): cannot open the connection\nTraceback:\n",
      "1. source(\"tests.R\")",
      "2. file(filename, \"r\", encoding = encoding)"
     ]
    }
   ],
   "source": [
    "library(tidyverse)\n",
    "library(repr)\n",
    "library(rvest)\n",
    "library(stringr)\n",
    "options(repr.matrix.max.rows = 6)\n",
    "source(\"tests.R\")\n",
    "source(\"cleanup.R\")"
   ]
  },
  {
   "cell_type": "markdown",
   "id": "cfd4781a-508b-4847-a4d2-e7b25d579b2e",
   "metadata": {},
   "source": [
    "Title : Using heart disease data to determine likelyhood of risk of angina."
   ]
  },
  {
   "cell_type": "markdown",
   "id": "73f41417-a774-45ce-b210-c397372b3cde",
   "metadata": {},
   "source": [
    "Introduction:\n",
    "Angina, also known as chest pain, is caused by a lack of oxygen rich blood in heart muscle tissues (heart.org). Other symptoms of angina includes: fatigue, shortness of breath, indigestion, and muscle soreness in the neck, jaw, or back. However, a heart angina is not directly considered a disease, but rather an indicating signal of underlying health conditions such as heart disease or ischemia. For diseases such as MVD or coronary microvascular disease, women who reported angina symptoms are more likely to be diagnosed with the disease (heart.org). Information obtained from www.heart.org\n",
    "\n",
    "Question: Is low maximum heart rate an indication of weakened heart muscle and possible disease?\n",
    "\n",
    "We chose the Cleveland heart disease data ,which is a comma separated value file, which shows a collection of patients of various ages, sex, along with chest pain and risk level. Normally, the reported risk level ranges from 0-4. 0 being there is no risk associated and 1-4 being there is a certain level of heart disease risk along with the angina. "
   ]
  },
  {
   "cell_type": "markdown",
   "id": "901a16ed-8703-4e8d-a22b-a601068fe08d",
   "metadata": {},
   "source": [
    "Methods:\n",
    "We could create a predictive test using the heart disease dataset and classify a patient’s heart disease risk level. We determined that the variables to be used are “age”, “max_heartrate”, and “exercise_induced_angina”. Our reasoning is that both “max_heartrate” and “exercise_induced_angina” are indicators of our heart muscle health, and as previously stated, weakened heart muscle tissue can result in heart disease development. We will be using a scatter plot along with classification methods to visualise and predict outcomes for each new patient's data. \n"
   ]
  },
  {
   "cell_type": "code",
   "execution_count": null,
   "id": "260d3e66-aa0c-4129-bd37-e4c744b3d9b2",
   "metadata": {},
   "outputs": [],
   "source": [
    "Expected Outcome:\n"
   ]
  },
  {
   "cell_type": "code",
   "execution_count": 10,
   "id": "d4a6e322-50ec-4b5d-a2f8-10ee22d2eeec",
   "metadata": {},
   "outputs": [
    {
     "name": "stderr",
     "output_type": "stream",
     "text": [
      "\u001b[1m\u001b[22mNew names:\n",
      "\u001b[36m•\u001b[39m `1.0` -> `1.0...2`\n",
      "\u001b[36m•\u001b[39m `1.0` -> `1.0...3`\n",
      "\u001b[36m•\u001b[39m `1.0` -> `1.0...6`\n",
      "\u001b[36m•\u001b[39m `0.0` -> `0.0...9`\n",
      "\u001b[36m•\u001b[39m `0.0` -> `0.0...12`\n",
      "\u001b[1mRows: \u001b[22m\u001b[34m302\u001b[39m \u001b[1mColumns: \u001b[22m\u001b[34m14\u001b[39m\n",
      "\u001b[36m──\u001b[39m \u001b[1mColumn specification\u001b[22m \u001b[36m────────────────────────────────────────────────────────\u001b[39m\n",
      "\u001b[1mDelimiter:\u001b[22m \",\"\n",
      "\u001b[31mchr\u001b[39m  (2): 0.0...12, 6.0\n",
      "\u001b[32mdbl\u001b[39m (12): 63.0, 1.0...2, 1.0...3, 145.0, 233.0, 1.0...6, 2.0, 150.0, 0.0...9...\n",
      "\n",
      "\u001b[36mℹ\u001b[39m Use `spec()` to retrieve the full column specification for this data.\n",
      "\u001b[36mℹ\u001b[39m Specify the column types or set `show_col_types = FALSE` to quiet this message.\n"
     ]
    },
    {
     "data": {
      "text/html": [
       "<table class=\"dataframe\">\n",
       "<caption>A tibble: 302 × 5</caption>\n",
       "<thead>\n",
       "\t<tr><th scope=col>age</th><th scope=col>sex</th><th scope=col>max_heartrate</th><th scope=col>exercise_induced_angina</th><th scope=col>risk_level</th></tr>\n",
       "\t<tr><th scope=col>&lt;dbl&gt;</th><th scope=col>&lt;chr&gt;</th><th scope=col>&lt;dbl&gt;</th><th scope=col>&lt;chr&gt;</th><th scope=col>&lt;dbl&gt;</th></tr>\n",
       "</thead>\n",
       "<tbody>\n",
       "\t<tr><td>67</td><td>male</td><td>108</td><td>Yes</td><td>2</td></tr>\n",
       "\t<tr><td>67</td><td>male</td><td>129</td><td>Yes</td><td>1</td></tr>\n",
       "\t<tr><td>37</td><td>male</td><td>187</td><td>No </td><td>0</td></tr>\n",
       "\t<tr><td>⋮</td><td>⋮</td><td>⋮</td><td>⋮</td><td>⋮</td></tr>\n",
       "\t<tr><td>57</td><td>male  </td><td>115</td><td>Yes</td><td>3</td></tr>\n",
       "\t<tr><td>57</td><td>female</td><td>174</td><td>No </td><td>1</td></tr>\n",
       "\t<tr><td>38</td><td>male  </td><td>173</td><td>No </td><td>0</td></tr>\n",
       "</tbody>\n",
       "</table>\n"
      ],
      "text/latex": [
       "A tibble: 302 × 5\n",
       "\\begin{tabular}{lllll}\n",
       " age & sex & max\\_heartrate & exercise\\_induced\\_angina & risk\\_level\\\\\n",
       " <dbl> & <chr> & <dbl> & <chr> & <dbl>\\\\\n",
       "\\hline\n",
       "\t 67 & male & 108 & Yes & 2\\\\\n",
       "\t 67 & male & 129 & Yes & 1\\\\\n",
       "\t 37 & male & 187 & No  & 0\\\\\n",
       "\t ⋮ & ⋮ & ⋮ & ⋮ & ⋮\\\\\n",
       "\t 57 & male   & 115 & Yes & 3\\\\\n",
       "\t 57 & female & 174 & No  & 1\\\\\n",
       "\t 38 & male   & 173 & No  & 0\\\\\n",
       "\\end{tabular}\n"
      ],
      "text/markdown": [
       "\n",
       "A tibble: 302 × 5\n",
       "\n",
       "| age &lt;dbl&gt; | sex &lt;chr&gt; | max_heartrate &lt;dbl&gt; | exercise_induced_angina &lt;chr&gt; | risk_level &lt;dbl&gt; |\n",
       "|---|---|---|---|---|\n",
       "| 67 | male | 108 | Yes | 2 |\n",
       "| 67 | male | 129 | Yes | 1 |\n",
       "| 37 | male | 187 | No  | 0 |\n",
       "| ⋮ | ⋮ | ⋮ | ⋮ | ⋮ |\n",
       "| 57 | male   | 115 | Yes | 3 |\n",
       "| 57 | female | 174 | No  | 1 |\n",
       "| 38 | male   | 173 | No  | 0 |\n",
       "\n"
      ],
      "text/plain": [
       "    age sex    max_heartrate exercise_induced_angina risk_level\n",
       "1   67  male   108           Yes                     2         \n",
       "2   67  male   129           Yes                     1         \n",
       "3   37  male   187           No                      0         \n",
       "⋮   ⋮   ⋮      ⋮             ⋮                       ⋮         \n",
       "300 57  male   115           Yes                     3         \n",
       "301 57  female 174           No                      1         \n",
       "302 38  male   173           No                      0         "
      ]
     },
     "metadata": {},
     "output_type": "display_data"
    }
   ],
   "source": [
    "cleveland_data<-read_csv(\"https://archive.ics.uci.edu/ml/machine-learning-databases/heart-disease/processed.cleveland.data\")\n",
    "colnames(cleveland_data)<-c(\"age\",\"sex\",\"chest_pain\",\"rest_bps\",\"cholestrol_level\",\"high_fbs?\",\n",
    "                            \"rest_electrographics\",\"max_heartrate\",\"exercise_induced_angina\",\"oldpeak\",\"slope\",\n",
    "                            \"colored_major_vessels\",\"thal\",\"risk_level\")\n",
    "                            #Note, generally 0=no issue and 1-4=problem\n",
    "cleveland_data<-cleveland_data|>\n",
    "                    select(age, sex, max_heartrate, exercise_induced_angina,risk_level)|>\n",
    "                    mutate(exercise_induced_angina=case_when(exercise_induced_angina==0~\"No\",exercise_induced_angina==1~\"Yes\"))|>\n",
    "                    mutate(sex=case_when(sex==0~\"female\",sex==1~\"male\"))\n",
    "cleveland_data"
   ]
  },
  {
   "cell_type": "code",
   "execution_count": 11,
   "id": "b3ed556e-eae9-471f-aaa0-41c5451ca6cb",
   "metadata": {},
   "outputs": [
    {
     "data": {
      "text/html": [
       "149.605960264901"
      ],
      "text/latex": [
       "149.605960264901"
      ],
      "text/markdown": [
       "149.605960264901"
      ],
      "text/plain": [
       "[1] 149.606"
      ]
     },
     "metadata": {},
     "output_type": "display_data"
    },
    {
     "name": "stderr",
     "output_type": "stream",
     "text": [
      "`stat_bin()` using `bins = 30`. Pick better value with `binwidth`.\n",
      "\n"
     ]
    },
    {
     "data": {
      "image/png": "[encoded data removed]",
      "text/plain": [
       "plot without title"
      ]
     },
     "metadata": {
      "image/png": {
       "height": 420,
       "width": 420
      }
     },
     "output_type": "display_data"
    }
   ],
   "source": [
    "avg_heart_rate <- cleveland_data |>\n",
    "                summarize(mean = mean(max_heartrate)) |>\n",
    "                pull()\n",
    "\n",
    "avg_heart_rate\n",
    "\n",
    "angina_risk <- cleveland_data |>\n",
    "            ggplot(aes(max_heartrate, fill = risk_level)) +\n",
    "            geom_histogram() +\n",
    "            facet_grid(rows = vars(risk_level)) +\n",
    "            geom_vline(xintercept = avg_heart_rate, linetype = \"dashed\", size = 1.0)\n",
    "\n",
    "angina_risk"
   ]
  },
  {
   "cell_type": "markdown",
   "id": "090b6ce7-7948-4905-97cf-e491989c1aa8",
   "metadata": {},
   "source": [
    "Fig 1: As seen in the bar graphs above, a greater number of patients with high max heartrates have a lower risk level for heart disease."
   ]
  },
  {
   "cell_type": "code",
   "execution_count": null,
   "id": "295bcec2-9bb9-45e1-b4b4-4c21253b17a4",
   "metadata": {},
   "outputs": [],
   "source": []
  }
 ],
 "metadata": {
  "kernelspec": {
   "display_name": "R",
   "language": "R",
   "name": "ir"
  },
  "language_info": {
   "codemirror_mode": "r",
   "file_extension": ".r",
   "mimetype": "text/x-r-source",
   "name": "R",
   "pygments_lexer": "r",
   "version": "4.1.3"
  }
 },
 "nbformat": 4,
 "nbformat_minor": 5
}
