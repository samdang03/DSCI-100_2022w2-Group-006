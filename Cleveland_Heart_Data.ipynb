{
 "cells": [
  {
   "cell_type": "code",
   "execution_count": 1,
   "id": "795a5964-7134-4476-b355-78c6228e8ee9",
   "metadata": {},
   "outputs": [
    {
     "name": "stderr",
     "output_type": "stream",
     "text": [
      "── \u001b[1mAttaching packages\u001b[22m ─────────────────────────────────────── tidyverse 1.3.1 ──\n",
      "\n",
      "\u001b[32m✔\u001b[39m \u001b[34mggplot2\u001b[39m 3.3.6     \u001b[32m✔\u001b[39m \u001b[34mpurrr  \u001b[39m 0.3.4\n",
      "\u001b[32m✔\u001b[39m \u001b[34mtibble \u001b[39m 3.1.7     \u001b[32m✔\u001b[39m \u001b[34mdplyr  \u001b[39m 1.0.9\n",
      "\u001b[32m✔\u001b[39m \u001b[34mtidyr  \u001b[39m 1.2.0     \u001b[32m✔\u001b[39m \u001b[34mstringr\u001b[39m 1.4.0\n",
      "\u001b[32m✔\u001b[39m \u001b[34mreadr  \u001b[39m 2.1.2     \u001b[32m✔\u001b[39m \u001b[34mforcats\u001b[39m 0.5.1\n",
      "\n",
      "── \u001b[1mConflicts\u001b[22m ────────────────────────────────────────── tidyverse_conflicts() ──\n",
      "\u001b[31m✖\u001b[39m \u001b[34mdplyr\u001b[39m::\u001b[32mfilter()\u001b[39m masks \u001b[34mstats\u001b[39m::filter()\n",
      "\u001b[31m✖\u001b[39m \u001b[34mdplyr\u001b[39m::\u001b[32mlag()\u001b[39m    masks \u001b[34mstats\u001b[39m::lag()\n",
      "\n",
      "── \u001b[1mAttaching packages\u001b[22m ────────────────────────────────────── tidymodels 1.0.0 ──\n",
      "\n",
      "\u001b[32m✔\u001b[39m \u001b[34mbroom       \u001b[39m 1.0.0     \u001b[32m✔\u001b[39m \u001b[34mrsample     \u001b[39m 1.0.0\n",
      "\u001b[32m✔\u001b[39m \u001b[34mdials       \u001b[39m 1.0.0     \u001b[32m✔\u001b[39m \u001b[34mtune        \u001b[39m 1.0.0\n",
      "\u001b[32m✔\u001b[39m \u001b[34minfer       \u001b[39m 1.0.2     \u001b[32m✔\u001b[39m \u001b[34mworkflows   \u001b[39m 1.0.0\n",
      "\u001b[32m✔\u001b[39m \u001b[34mmodeldata   \u001b[39m 1.0.0     \u001b[32m✔\u001b[39m \u001b[34mworkflowsets\u001b[39m 1.0.0\n",
      "\u001b[32m✔\u001b[39m \u001b[34mparsnip     \u001b[39m 1.0.0     \u001b[32m✔\u001b[39m \u001b[34myardstick   \u001b[39m 1.0.0\n",
      "\u001b[32m✔\u001b[39m \u001b[34mrecipes     \u001b[39m 1.0.1     \n",
      "\n",
      "── \u001b[1mConflicts\u001b[22m ───────────────────────────────────────── tidymodels_conflicts() ──\n",
      "\u001b[31m✖\u001b[39m \u001b[34mscales\u001b[39m::\u001b[32mdiscard()\u001b[39m masks \u001b[34mpurrr\u001b[39m::discard()\n",
      "\u001b[31m✖\u001b[39m \u001b[34mdplyr\u001b[39m::\u001b[32mfilter()\u001b[39m   masks \u001b[34mstats\u001b[39m::filter()\n",
      "\u001b[31m✖\u001b[39m \u001b[34mrecipes\u001b[39m::\u001b[32mfixed()\u001b[39m  masks \u001b[34mstringr\u001b[39m::fixed()\n",
      "\u001b[31m✖\u001b[39m \u001b[34mdplyr\u001b[39m::\u001b[32mlag()\u001b[39m      masks \u001b[34mstats\u001b[39m::lag()\n",
      "\u001b[31m✖\u001b[39m \u001b[34myardstick\u001b[39m::\u001b[32mspec()\u001b[39m masks \u001b[34mreadr\u001b[39m::spec()\n",
      "\u001b[31m✖\u001b[39m \u001b[34mrecipes\u001b[39m::\u001b[32mstep()\u001b[39m   masks \u001b[34mstats\u001b[39m::step()\n",
      "\u001b[34m•\u001b[39m Dig deeper into tidy modeling with R at \u001b[32mhttps://www.tmwr.org\u001b[39m\n",
      "\n",
      "Warning message in file(filename, \"r\", encoding = encoding):\n",
      "“cannot open file 'tests.R': No such file or directory”\n"
     ]
    },
    {
     "ename": "ERROR",
     "evalue": "Error in file(filename, \"r\", encoding = encoding): cannot open the connection\n",
     "output_type": "error",
     "traceback": [
      "Error in file(filename, \"r\", encoding = encoding): cannot open the connection\nTraceback:\n",
      "1. source(\"tests.R\")",
      "2. file(filename, \"r\", encoding = encoding)"
     ]
    }
   ],
   "source": [
    "library(tidyverse)\n",
    "library(repr)\n",
    "library(tidymodels)\n",
    "options(repr.matrix.max.rows = 6)\n",
    "source('tests.R')\n",
    "source('cleanup.R')"
   ]
  },
  {
   "cell_type": "markdown",
   "id": "cfd4781a-508b-4847-a4d2-e7b25d579b2e",
   "metadata": {},
   "source": [
    "Title : Using heart disease data to determine likelyhood of risk of angina."
   ]
  },
  {
   "cell_type": "markdown",
   "id": "73f41417-a774-45ce-b210-c397372b3cde",
   "metadata": {},
   "source": [
    "Introduction:\n",
    "Heart diseases are often associated with chest discomfort and difficulty breathing. However other symptoms also include: fatigue, lightheadedness, slowed heartbeat (bradycardia), and weakness or coldness in the legs or arms (mayoclinic.org). All of these symptoms can be attributed to a weaknening of the heart muscles that then causes a lack of oxyginated blood reaching the body, such as the limbs and the brain. Cardiomyopathy is a type of heart condition that is asscociated with inhibited heart muscle activity due to enlargement or rigid formation of heart muscles(heart.org). Information obtained from www.heart.org and www.mayoclinic.org\n",
    "\n",
    "Question: Is low maximum heart rate an indication of weakened heart muscle and possible disease?\n",
    "\n",
    "We chose the Cleveland heart disease data ,which is a comma separated value file, which shows a collection of patients of various ages, sex, along with chest pain and risk level. Normally, the reported risk level ranges from 0-4. 0 being there is no risk associated and 1-4 being there is a certain level of heart disease risk along with the angina. "
   ]
  },
  {
   "cell_type": "markdown",
   "id": "901a16ed-8703-4e8d-a22b-a601068fe08d",
   "metadata": {},
   "source": [
    "Methods:\n",
    "We will create a predictive classifier using the heart disease dataset and use it to classify a patient’s heart disease risk level. We determined that the variables to be used are “age” and “max_heartrate\". Our reasoning is that both \"age\" and “max_heartrate” are indicators of our heart muscle health, and as previously stated, weakened heart muscle tissue can result in heart disease development. We will be using a scatter plot along with classification methods to visualise and predict outcomes for each new patient's data. \n"
   ]
  },
  {
   "cell_type": "markdown",
   "id": "c5e4cb32-cdc6-4187-b838-4810c402af55",
   "metadata": {},
   "source": [
    "Expected outcomes and significance: \n",
    "We hypothesise that higher age and a low maximum heart rate (an indication of weakened heart muscle) are factors indicative of high heart risks. We can then use these variables and the associated heart disease risk levels of each datapoint to predict the risk level of any new incoming patients. This is important because it can be used for early diagnosis of diseases. An early diagnosis would increase the help available and can prevent further damage to the individual. Future analysis questions include: does sex, cholesterol level, or other factors contribute to the correlation of angina and heart disease?\n"
   ]
  },
  {
   "cell_type": "code",
   "execution_count": 2,
   "id": "d4a6e322-50ec-4b5d-a2f8-10ee22d2eeec",
   "metadata": {},
   "outputs": [
    {
     "name": "stderr",
     "output_type": "stream",
     "text": [
      "\u001b[1m\u001b[22mNew names:\n",
      "\u001b[36m•\u001b[39m `1.0` -> `1.0...2`\n",
      "\u001b[36m•\u001b[39m `1.0` -> `1.0...3`\n",
      "\u001b[36m•\u001b[39m `1.0` -> `1.0...6`\n",
      "\u001b[36m•\u001b[39m `0.0` -> `0.0...9`\n",
      "\u001b[36m•\u001b[39m `0.0` -> `0.0...12`\n",
      "\u001b[1mRows: \u001b[22m\u001b[34m302\u001b[39m \u001b[1mColumns: \u001b[22m\u001b[34m14\u001b[39m\n",
      "\u001b[36m──\u001b[39m \u001b[1mColumn specification\u001b[22m \u001b[36m────────────────────────────────────────────────────────\u001b[39m\n",
      "\u001b[1mDelimiter:\u001b[22m \",\"\n",
      "\u001b[31mchr\u001b[39m  (2): 0.0...12, 6.0\n",
      "\u001b[32mdbl\u001b[39m (12): 63.0, 1.0...2, 1.0...3, 145.0, 233.0, 1.0...6, 2.0, 150.0, 0.0...9...\n",
      "\n",
      "\u001b[36mℹ\u001b[39m Use `spec()` to retrieve the full column specification for this data.\n",
      "\u001b[36mℹ\u001b[39m Specify the column types or set `show_col_types = FALSE` to quiet this message.\n"
     ]
    },
    {
     "data": {
      "text/html": [
       "<table class=\"dataframe\">\n",
       "<caption>A tibble: 225 × 5</caption>\n",
       "<thead>\n",
       "\t<tr><th scope=col>age</th><th scope=col>sex</th><th scope=col>max_heartrate</th><th scope=col>exercise_induced_angina</th><th scope=col>risk_level</th></tr>\n",
       "\t<tr><th scope=col>&lt;dbl&gt;</th><th scope=col>&lt;chr&gt;</th><th scope=col>&lt;dbl&gt;</th><th scope=col>&lt;chr&gt;</th><th scope=col>&lt;fct&gt;</th></tr>\n",
       "</thead>\n",
       "<tbody>\n",
       "\t<tr><td>37</td><td>male  </td><td>187</td><td>No</td><td>0</td></tr>\n",
       "\t<tr><td>41</td><td>female</td><td>172</td><td>No</td><td>0</td></tr>\n",
       "\t<tr><td>57</td><td>male  </td><td>148</td><td>No</td><td>0</td></tr>\n",
       "\t<tr><td>⋮</td><td>⋮</td><td>⋮</td><td>⋮</td><td>⋮</td></tr>\n",
       "\t<tr><td>55</td><td>female</td><td>130</td><td>Yes</td><td>3</td></tr>\n",
       "\t<tr><td>58</td><td>male  </td><td>140</td><td>No </td><td>4</td></tr>\n",
       "\t<tr><td>59</td><td>male  </td><td> 90</td><td>No </td><td>3</td></tr>\n",
       "</tbody>\n",
       "</table>\n"
      ],
      "text/latex": [
       "A tibble: 225 × 5\n",
       "\\begin{tabular}{lllll}\n",
       " age & sex & max\\_heartrate & exercise\\_induced\\_angina & risk\\_level\\\\\n",
       " <dbl> & <chr> & <dbl> & <chr> & <fct>\\\\\n",
       "\\hline\n",
       "\t 37 & male   & 187 & No & 0\\\\\n",
       "\t 41 & female & 172 & No & 0\\\\\n",
       "\t 57 & male   & 148 & No & 0\\\\\n",
       "\t ⋮ & ⋮ & ⋮ & ⋮ & ⋮\\\\\n",
       "\t 55 & female & 130 & Yes & 3\\\\\n",
       "\t 58 & male   & 140 & No  & 4\\\\\n",
       "\t 59 & male   &  90 & No  & 3\\\\\n",
       "\\end{tabular}\n"
      ],
      "text/markdown": [
       "\n",
       "A tibble: 225 × 5\n",
       "\n",
       "| age &lt;dbl&gt; | sex &lt;chr&gt; | max_heartrate &lt;dbl&gt; | exercise_induced_angina &lt;chr&gt; | risk_level &lt;fct&gt; |\n",
       "|---|---|---|---|---|\n",
       "| 37 | male   | 187 | No | 0 |\n",
       "| 41 | female | 172 | No | 0 |\n",
       "| 57 | male   | 148 | No | 0 |\n",
       "| ⋮ | ⋮ | ⋮ | ⋮ | ⋮ |\n",
       "| 55 | female | 130 | Yes | 3 |\n",
       "| 58 | male   | 140 | No  | 4 |\n",
       "| 59 | male   |  90 | No  | 3 |\n",
       "\n"
      ],
      "text/plain": [
       "    age sex    max_heartrate exercise_induced_angina risk_level\n",
       "1   37  male   187           No                      0         \n",
       "2   41  female 172           No                      0         \n",
       "3   57  male   148           No                      0         \n",
       "⋮   ⋮   ⋮      ⋮             ⋮                       ⋮         \n",
       "223 55  female 130           Yes                     3         \n",
       "224 58  male   140           No                      4         \n",
       "225 59  male    90           No                      3         "
      ]
     },
     "metadata": {},
     "output_type": "display_data"
    }
   ],
   "source": [
    "cleveland_data<-read_csv(\"https://archive.ics.uci.edu/ml/machine-learning-databases/heart-disease/processed.cleveland.data\")\n",
    "colnames(cleveland_data)<-c(\"age\",\"sex\",\"chest_pain\",\"rest_bps\",\"cholestrol_level\",\"high_fbs?\",\n",
    "                            \"rest_electrographics\",\"max_heartrate\",\"exercise_induced_angina\",\"oldpeak\",\"slope\",\n",
    "                            \"colored_major_vessels\",\"thal\",\"risk_level\")\n",
    "                            #Note, generally 0=no issue and 1-4=problem\n",
    "cleveland_data<-cleveland_data|>\n",
    "                    select(age, sex, max_heartrate, exercise_induced_angina,risk_level)|>\n",
    "                    mutate(exercise_induced_angina=case_when(exercise_induced_angina==0~\"No\",exercise_induced_angina==1~\"Yes\"))|>\n",
    "                    mutate(risk_level = as_factor(risk_level))|>\n",
    "                    mutate(sex=case_when(sex==0~\"female\",sex==1~\"male\"))\n",
    "\n",
    "cleveland_split <- initial_split(cleveland_data, prop = 0.75, strata = risk_level)\n",
    "cleveland_train <- training(cleveland_split)\n",
    "cleveland_test <- testing(cleveland_split)\n",
    "\n",
    "cleveland_train"
   ]
  },
  {
   "cell_type": "code",
   "execution_count": 3,
   "id": "b3ed556e-eae9-471f-aaa0-41c5451ca6cb",
   "metadata": {},
   "outputs": [
    {
     "data": {
      "text/html": [
       "148.671111111111"
      ],
      "text/latex": [
       "148.671111111111"
      ],
      "text/markdown": [
       "148.671111111111"
      ],
      "text/plain": [
       "[1] 148.6711"
      ]
     },
     "metadata": {},
     "output_type": "display_data"
    },
    {
     "name": "stderr",
     "output_type": "stream",
     "text": [
      "`stat_bin()` using `bins = 30`. Pick better value with `binwidth`.\n",
      "\n"
     ]
    },
    {
     "data": {
      "image/png": "[encoded data removed]",
      "text/plain": [
       "plot without title"
      ]
     },
     "metadata": {
      "image/png": {
       "height": 420,
       "width": 420
      }
     },
     "output_type": "display_data"
    }
   ],
   "source": [
    "avg_heart_rate <- cleveland_train |>\n",
    "                summarize(mean = mean(max_heartrate)) |>\n",
    "                pull()\n",
    "\n",
    "avg_heart_rate\n",
    "\n",
    "angina_risk <- cleveland_train |>\n",
    "                ggplot(aes(max_heartrate, fill = risk_level)) +\n",
    "                geom_histogram() +\n",
    "                facet_grid(rows = vars(risk_level)) +\n",
    "                geom_vline(xintercept = avg_heart_rate, linetype = \"dashed\", size = 1.0) + \n",
    "                labs(x = \"Maximum Heart Rate\", y = \"Number of Patients\")\n",
    "\n",
    "angina_risk"
   ]
  },
  {
   "cell_type": "markdown",
   "id": "090b6ce7-7948-4905-97cf-e491989c1aa8",
   "metadata": {},
   "source": [
    "Fig 1: As seen in the bar graphs above, a greater number of patients with max heartrates higher than the avg max heartrate have a lower risk level for heart disease."
   ]
  },
  {
   "cell_type": "code",
   "execution_count": null,
   "id": "295bcec2-9bb9-45e1-b4b4-4c21253b17a4",
   "metadata": {},
   "outputs": [],
   "source": []
  }
 ],
 "metadata": {
  "kernelspec": {
   "display_name": "R",
   "language": "R",
   "name": "ir"
  },
  "language_info": {
   "codemirror_mode": "r",
   "file_extension": ".r",
   "mimetype": "text/x-r-source",
   "name": "R",
   "pygments_lexer": "r",
   "version": "4.1.3"
  }
 },
 "nbformat": 4,
 "nbformat_minor": 5
}
