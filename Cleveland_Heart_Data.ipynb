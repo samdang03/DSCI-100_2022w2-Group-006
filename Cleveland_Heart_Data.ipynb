{
 "cells": [
  {
   "cell_type": "code",
   "execution_count": 1,
   "id": "795a5964-7134-4476-b355-78c6228e8ee9",
   "metadata": {},
   "outputs": [
    {
     "name": "stderr",
     "output_type": "stream",
     "text": [
      "── \u001b[1mAttaching packages\u001b[22m ─────────────────────────────────────── tidyverse 1.3.1 ──\n",
      "\n",
      "\u001b[32m✔\u001b[39m \u001b[34mggplot2\u001b[39m 3.3.6     \u001b[32m✔\u001b[39m \u001b[34mpurrr  \u001b[39m 0.3.4\n",
      "\u001b[32m✔\u001b[39m \u001b[34mtibble \u001b[39m 3.1.7     \u001b[32m✔\u001b[39m \u001b[34mdplyr  \u001b[39m 1.0.9\n",
      "\u001b[32m✔\u001b[39m \u001b[34mtidyr  \u001b[39m 1.2.0     \u001b[32m✔\u001b[39m \u001b[34mstringr\u001b[39m 1.4.0\n",
      "\u001b[32m✔\u001b[39m \u001b[34mreadr  \u001b[39m 2.1.2     \u001b[32m✔\u001b[39m \u001b[34mforcats\u001b[39m 0.5.1\n",
      "\n",
      "── \u001b[1mConflicts\u001b[22m ────────────────────────────────────────── tidyverse_conflicts() ──\n",
      "\u001b[31m✖\u001b[39m \u001b[34mdplyr\u001b[39m::\u001b[32mfilter()\u001b[39m masks \u001b[34mstats\u001b[39m::filter()\n",
      "\u001b[31m✖\u001b[39m \u001b[34mdplyr\u001b[39m::\u001b[32mlag()\u001b[39m    masks \u001b[34mstats\u001b[39m::lag()\n",
      "\n",
      "\n",
      "Attaching package: ‘rvest’\n",
      "\n",
      "\n",
      "The following object is masked from ‘package:readr’:\n",
      "\n",
      "    guess_encoding\n",
      "\n",
      "\n",
      "Warning message in file(filename, \"r\", encoding = encoding):\n",
      "“cannot open file 'tests.R': No such file or directory”\n"
     ]
    },
    {
     "ename": "ERROR",
     "evalue": "Error in file(filename, \"r\", encoding = encoding): cannot open the connection\n",
     "output_type": "error",
     "traceback": [
      "Error in file(filename, \"r\", encoding = encoding): cannot open the connection\nTraceback:\n",
      "1. source(\"tests.R\")",
      "2. file(filename, \"r\", encoding = encoding)"
     ]
    }
   ],
   "source": [
    "library(tidyverse)\n",
    "library(repr)\n",
    "library(rvest)\n",
    "library(stringr)\n",
    "options(repr.matrix.max.rows = 6)\n",
    "source(\"tests.R\")\n",
    "source(\"cleanup.R\")"
   ]
  },
  {
   "cell_type": "markdown",
   "id": "cfd4781a-508b-4847-a4d2-e7b25d579b2e",
   "metadata": {},
   "source": [
    "Title : Using heart disease data to determine likelyhood of risk of angina."
   ]
  },
  {
   "cell_type": "markdown",
   "id": "73f41417-a774-45ce-b210-c397372b3cde",
   "metadata": {},
   "source": [
    "By using heart disease data, we hypothesize that a low maximum heart rate is an indication of weakened heart muscle. This could be an indication that a person is likely to experience an exercise induced angina event. We used variables such as \"age\" and \"max_heart\n"
   ]
  },
  {
   "cell_type": "markdown",
   "id": "82ff14ab-f6aa-44d5-8256-b5e9274ee03c",
   "metadata": {},
   "source": [
    "Angina, also known as chest pain, is caused by a lack of oxygen rich blood in heart muscle tissues (heart.org). Other symptoms of angina includes: fatigue, shortness of breath, indigestion, and muscle soreness in the neck, jaw, or back. However, a heart angina is not directly considered a disease, but rather an indicating signal of underlying health conditions such as heart disease or ischemia. For diseases such as MVD or coronary microvascular disease, women who reported angina symptoms are more likely to be diagnosed with the disease (heart.org).\n"
   ]
  },
  {
   "cell_type": "code",
   "execution_count": 2,
   "id": "d4a6e322-50ec-4b5d-a2f8-10ee22d2eeec",
   "metadata": {},
   "outputs": [
    {
     "name": "stderr",
     "output_type": "stream",
     "text": [
      "\u001b[1m\u001b[22mNew names:\n",
      "\u001b[36m•\u001b[39m `1.0` -> `1.0...2`\n",
      "\u001b[36m•\u001b[39m `1.0` -> `1.0...3`\n",
      "\u001b[36m•\u001b[39m `1.0` -> `1.0...6`\n",
      "\u001b[36m•\u001b[39m `0.0` -> `0.0...9`\n",
      "\u001b[36m•\u001b[39m `0.0` -> `0.0...12`\n",
      "\u001b[1mRows: \u001b[22m\u001b[34m302\u001b[39m \u001b[1mColumns: \u001b[22m\u001b[34m14\u001b[39m\n",
      "\u001b[36m──\u001b[39m \u001b[1mColumn specification\u001b[22m \u001b[36m────────────────────────────────────────────────────────\u001b[39m\n",
      "\u001b[1mDelimiter:\u001b[22m \",\"\n",
      "\u001b[31mchr\u001b[39m  (2): 0.0...12, 6.0\n",
      "\u001b[32mdbl\u001b[39m (12): 63.0, 1.0...2, 1.0...3, 145.0, 233.0, 1.0...6, 2.0, 150.0, 0.0...9...\n",
      "\n",
      "\u001b[36mℹ\u001b[39m Use `spec()` to retrieve the full column specification for this data.\n",
      "\u001b[36mℹ\u001b[39m Specify the column types or set `show_col_types = FALSE` to quiet this message.\n"
     ]
    },
    {
     "data": {
      "text/html": [
       "<table class=\"dataframe\">\n",
       "<caption>A tibble: 302 × 14</caption>\n",
       "<thead>\n",
       "\t<tr><th scope=col>age</th><th scope=col>sex</th><th scope=col>chest_pain</th><th scope=col>rest_bps</th><th scope=col>cholestrol_level</th><th scope=col>high_fbs?</th><th scope=col>rest_electrographics</th><th scope=col>max_heartrate</th><th scope=col>exercise_induced_angina</th><th scope=col>oldpeak</th><th scope=col>slope</th><th scope=col>colored_major_vessels</th><th scope=col>thal</th><th scope=col>risk_level</th></tr>\n",
       "\t<tr><th scope=col>&lt;dbl&gt;</th><th scope=col>&lt;chr&gt;</th><th scope=col>&lt;dbl&gt;</th><th scope=col>&lt;dbl&gt;</th><th scope=col>&lt;dbl&gt;</th><th scope=col>&lt;dbl&gt;</th><th scope=col>&lt;dbl&gt;</th><th scope=col>&lt;dbl&gt;</th><th scope=col>&lt;chr&gt;</th><th scope=col>&lt;dbl&gt;</th><th scope=col>&lt;dbl&gt;</th><th scope=col>&lt;chr&gt;</th><th scope=col>&lt;chr&gt;</th><th scope=col>&lt;dbl&gt;</th></tr>\n",
       "</thead>\n",
       "<tbody>\n",
       "\t<tr><td>67</td><td>male</td><td>4</td><td>160</td><td>286</td><td>0</td><td>2</td><td>108</td><td>Yes</td><td>1.5</td><td>2</td><td>3.0</td><td>3.0</td><td>2</td></tr>\n",
       "\t<tr><td>67</td><td>male</td><td>4</td><td>120</td><td>229</td><td>0</td><td>2</td><td>129</td><td>Yes</td><td>2.6</td><td>2</td><td>2.0</td><td>7.0</td><td>1</td></tr>\n",
       "\t<tr><td>37</td><td>male</td><td>3</td><td>130</td><td>250</td><td>0</td><td>0</td><td>187</td><td>No </td><td>3.5</td><td>3</td><td>0.0</td><td>3.0</td><td>0</td></tr>\n",
       "\t<tr><td>⋮</td><td>⋮</td><td>⋮</td><td>⋮</td><td>⋮</td><td>⋮</td><td>⋮</td><td>⋮</td><td>⋮</td><td>⋮</td><td>⋮</td><td>⋮</td><td>⋮</td><td>⋮</td></tr>\n",
       "\t<tr><td>57</td><td>male  </td><td>4</td><td>130</td><td>131</td><td>0</td><td>0</td><td>115</td><td>Yes</td><td>1.2</td><td>2</td><td>1.0</td><td>7.0</td><td>3</td></tr>\n",
       "\t<tr><td>57</td><td>female</td><td>2</td><td>130</td><td>236</td><td>0</td><td>2</td><td>174</td><td>No </td><td>0.0</td><td>2</td><td>1.0</td><td>3.0</td><td>1</td></tr>\n",
       "\t<tr><td>38</td><td>male  </td><td>3</td><td>138</td><td>175</td><td>0</td><td>0</td><td>173</td><td>No </td><td>0.0</td><td>1</td><td>?  </td><td>3.0</td><td>0</td></tr>\n",
       "</tbody>\n",
       "</table>\n"
      ],
      "text/latex": [
       "A tibble: 302 × 14\n",
       "\\begin{tabular}{llllllllllllll}\n",
       " age & sex & chest\\_pain & rest\\_bps & cholestrol\\_level & high\\_fbs? & rest\\_electrographics & max\\_heartrate & exercise\\_induced\\_angina & oldpeak & slope & colored\\_major\\_vessels & thal & risk\\_level\\\\\n",
       " <dbl> & <chr> & <dbl> & <dbl> & <dbl> & <dbl> & <dbl> & <dbl> & <chr> & <dbl> & <dbl> & <chr> & <chr> & <dbl>\\\\\n",
       "\\hline\n",
       "\t 67 & male & 4 & 160 & 286 & 0 & 2 & 108 & Yes & 1.5 & 2 & 3.0 & 3.0 & 2\\\\\n",
       "\t 67 & male & 4 & 120 & 229 & 0 & 2 & 129 & Yes & 2.6 & 2 & 2.0 & 7.0 & 1\\\\\n",
       "\t 37 & male & 3 & 130 & 250 & 0 & 0 & 187 & No  & 3.5 & 3 & 0.0 & 3.0 & 0\\\\\n",
       "\t ⋮ & ⋮ & ⋮ & ⋮ & ⋮ & ⋮ & ⋮ & ⋮ & ⋮ & ⋮ & ⋮ & ⋮ & ⋮ & ⋮\\\\\n",
       "\t 57 & male   & 4 & 130 & 131 & 0 & 0 & 115 & Yes & 1.2 & 2 & 1.0 & 7.0 & 3\\\\\n",
       "\t 57 & female & 2 & 130 & 236 & 0 & 2 & 174 & No  & 0.0 & 2 & 1.0 & 3.0 & 1\\\\\n",
       "\t 38 & male   & 3 & 138 & 175 & 0 & 0 & 173 & No  & 0.0 & 1 & ?   & 3.0 & 0\\\\\n",
       "\\end{tabular}\n"
      ],
      "text/markdown": [
       "\n",
       "A tibble: 302 × 14\n",
       "\n",
       "| age &lt;dbl&gt; | sex &lt;chr&gt; | chest_pain &lt;dbl&gt; | rest_bps &lt;dbl&gt; | cholestrol_level &lt;dbl&gt; | high_fbs? &lt;dbl&gt; | rest_electrographics &lt;dbl&gt; | max_heartrate &lt;dbl&gt; | exercise_induced_angina &lt;chr&gt; | oldpeak &lt;dbl&gt; | slope &lt;dbl&gt; | colored_major_vessels &lt;chr&gt; | thal &lt;chr&gt; | risk_level &lt;dbl&gt; |\n",
       "|---|---|---|---|---|---|---|---|---|---|---|---|---|---|\n",
       "| 67 | male | 4 | 160 | 286 | 0 | 2 | 108 | Yes | 1.5 | 2 | 3.0 | 3.0 | 2 |\n",
       "| 67 | male | 4 | 120 | 229 | 0 | 2 | 129 | Yes | 2.6 | 2 | 2.0 | 7.0 | 1 |\n",
       "| 37 | male | 3 | 130 | 250 | 0 | 0 | 187 | No  | 3.5 | 3 | 0.0 | 3.0 | 0 |\n",
       "| ⋮ | ⋮ | ⋮ | ⋮ | ⋮ | ⋮ | ⋮ | ⋮ | ⋮ | ⋮ | ⋮ | ⋮ | ⋮ | ⋮ |\n",
       "| 57 | male   | 4 | 130 | 131 | 0 | 0 | 115 | Yes | 1.2 | 2 | 1.0 | 7.0 | 3 |\n",
       "| 57 | female | 2 | 130 | 236 | 0 | 2 | 174 | No  | 0.0 | 2 | 1.0 | 3.0 | 1 |\n",
       "| 38 | male   | 3 | 138 | 175 | 0 | 0 | 173 | No  | 0.0 | 1 | ?   | 3.0 | 0 |\n",
       "\n"
      ],
      "text/plain": [
       "    age sex    chest_pain rest_bps cholestrol_level high_fbs?\n",
       "1   67  male   4          160      286              0        \n",
       "2   67  male   4          120      229              0        \n",
       "3   37  male   3          130      250              0        \n",
       "⋮   ⋮   ⋮      ⋮          ⋮        ⋮                ⋮        \n",
       "300 57  male   4          130      131              0        \n",
       "301 57  female 2          130      236              0        \n",
       "302 38  male   3          138      175              0        \n",
       "    rest_electrographics max_heartrate exercise_induced_angina oldpeak slope\n",
       "1   2                    108           Yes                     1.5     2    \n",
       "2   2                    129           Yes                     2.6     2    \n",
       "3   0                    187           No                      3.5     3    \n",
       "⋮   ⋮                    ⋮             ⋮                       ⋮       ⋮    \n",
       "300 0                    115           Yes                     1.2     2    \n",
       "301 2                    174           No                      0.0     2    \n",
       "302 0                    173           No                      0.0     1    \n",
       "    colored_major_vessels thal risk_level\n",
       "1   3.0                   3.0  2         \n",
       "2   2.0                   7.0  1         \n",
       "3   0.0                   3.0  0         \n",
       "⋮   ⋮                     ⋮    ⋮         \n",
       "300 1.0                   7.0  3         \n",
       "301 1.0                   3.0  1         \n",
       "302 ?                     3.0  0         "
      ]
     },
     "metadata": {},
     "output_type": "display_data"
    }
   ],
   "source": [
    "cleveland_data<-read_csv(\"https://archive.ics.uci.edu/ml/machine-learning-databases/heart-disease/processed.cleveland.data\")\n",
    "colnames(cleveland_data)<-c(\"age\",\"sex\",\"chest_pain\",\"rest_bps\",\"cholestrol_level\",\"high_fbs?\",\n",
    "                            \"rest_electrographics\",\"max_heartrate\",\"exercise_induced_angina\",\"oldpeak\",\"slope\",\n",
    "                            \"colored_major_vessels\",\"thal\",\"risk_level\")\n",
    "                            #Note, generally 0=no issue and 1-4=problem\n",
    "cleveland_cat_data<-cleveland_data|>\n",
    "                    mutate(exercise_induced_angina=case_when(exercise_induced_angina==0~\"No\",exercise_induced_angina==1~\"Yes\"))|>\n",
    "                    mutate(sex=case_when(sex==0~\"female\",sex==1~\"male\"))\n",
    "cleveland_cat_data"
   ]
  },
  {
   "cell_type": "code",
   "execution_count": 3,
   "id": "b3ed556e-eae9-471f-aaa0-41c5451ca6cb",
   "metadata": {},
   "outputs": [
    {
     "data": {
      "image/png": "[encoded data removed]",
      "text/plain": [
       "plot without title"
      ]
     },
     "metadata": {
      "image/png": {
       "height": 420,
       "width": 420
      }
     },
     "output_type": "display_data"
    }
   ],
   "source": [
    "cleveland_avg_data<-cleveland_cat_data|>\n",
    "                select(max_heartrate, exercise_induced_angina)|>\n",
    "                group_by(exercise_induced_angina)|>\n",
    "                summarize(\"avg_max_heartrate\"=mean(max_heartrate, na.rm=TRUE))\n",
    "\n",
    "cleveland_maxrate<-cleveland_avg_data|>\n",
    "                    ggplot(aes(x=exercise_induced_angina,y=avg_max_heartrate))+\n",
    "                    geom_bar(stat=\"identity\")+\n",
    "                    labs(x=\"Occurance of Exercise Induced Angina\",y=\"Average Max Heart Rate(bpm)\")\n",
    "cleveland_maxrate\n"
   ]
  },
  {
   "cell_type": "code",
   "execution_count": null,
   "id": "34eb75d7-6861-4637-874b-ec3e20ff3c73",
   "metadata": {},
   "outputs": [],
   "source": []
  }
 ],
 "metadata": {
  "kernelspec": {
   "display_name": "R",
   "language": "R",
   "name": "ir"
  },
  "language_info": {
   "codemirror_mode": "r",
   "file_extension": ".r",
   "mimetype": "text/x-r-source",
   "name": "R",
   "pygments_lexer": "r",
   "version": "4.1.3"
  }
 },
 "nbformat": 4,
 "nbformat_minor": 5
}
