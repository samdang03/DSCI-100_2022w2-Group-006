{
 "cells": [
  {
   "cell_type": "code",
   "execution_count": 4,
   "id": "60dc9952-cf76-425e-96bc-689ff64eb796",
   "metadata": {},
   "outputs": [
    {
     "name": "stderr",
     "output_type": "stream",
     "text": [
      "\n",
      "Attaching package: ‘rvest’\n",
      "\n",
      "\n",
      "The following object is masked from ‘package:readr’:\n",
      "\n",
      "    guess_encoding\n",
      "\n",
      "\n"
     ]
    }
   ],
   "source": [
    "library(tidyverse)\n",
    "library(tidymodels)\n",
    "library(repr)\n",
    "library(rvest)\n",
    "library(stringr)\n",
    "options(repr.matrix.max.rows = 6)\n",
    "set.seed(10)"
   ]
  },
  {
   "cell_type": "markdown",
   "id": "d6688ba5-3231-4def-84c0-5f52a518c7a4",
   "metadata": {},
   "source": [
    "Packages containing functions required for the following classification model"
   ]
  },
  {
   "cell_type": "code",
   "execution_count": 5,
   "id": "5e8545bd-bd59-4966-8166-d806595f3dc9",
   "metadata": {},
   "outputs": [
    {
     "name": "stderr",
     "output_type": "stream",
     "text": [
      "\u001b[1m\u001b[22mNew names:\n",
      "\u001b[36m•\u001b[39m `1.0` -> `1.0...2`\n",
      "\u001b[36m•\u001b[39m `1.0` -> `1.0...3`\n",
      "\u001b[36m•\u001b[39m `1.0` -> `1.0...6`\n",
      "\u001b[36m•\u001b[39m `0.0` -> `0.0...9`\n",
      "\u001b[36m•\u001b[39m `0.0` -> `0.0...12`\n",
      "\u001b[1mRows: \u001b[22m\u001b[34m302\u001b[39m \u001b[1mColumns: \u001b[22m\u001b[34m14\u001b[39m\n",
      "\u001b[36m──\u001b[39m \u001b[1mColumn specification\u001b[22m \u001b[36m────────────────────────────────────────────────────────\u001b[39m\n",
      "\u001b[1mDelimiter:\u001b[22m \",\"\n",
      "\u001b[31mchr\u001b[39m  (2): 0.0...12, 6.0\n",
      "\u001b[32mdbl\u001b[39m (12): 63.0, 1.0...2, 1.0...3, 145.0, 233.0, 1.0...6, 2.0, 150.0, 0.0...9...\n",
      "\n",
      "\u001b[36mℹ\u001b[39m Use `spec()` to retrieve the full column specification for this data.\n",
      "\u001b[36mℹ\u001b[39m Specify the column types or set `show_col_types = FALSE` to quiet this message.\n"
     ]
    },
    {
     "data": {
      "text/html": [
       "<table class=\"dataframe\">\n",
       "<caption>A tibble: 302 × 4</caption>\n",
       "<thead>\n",
       "\t<tr><th scope=col>age</th><th scope=col>sex</th><th scope=col>max_heartrate</th><th scope=col>risk_level</th></tr>\n",
       "\t<tr><th scope=col>&lt;dbl&gt;</th><th scope=col>&lt;chr&gt;</th><th scope=col>&lt;dbl&gt;</th><th scope=col>&lt;fct&gt;</th></tr>\n",
       "</thead>\n",
       "<tbody>\n",
       "\t<tr><td>67</td><td>male</td><td>108</td><td>2</td></tr>\n",
       "\t<tr><td>67</td><td>male</td><td>129</td><td>1</td></tr>\n",
       "\t<tr><td>37</td><td>male</td><td>187</td><td>0</td></tr>\n",
       "\t<tr><td>⋮</td><td>⋮</td><td>⋮</td><td>⋮</td></tr>\n",
       "\t<tr><td>57</td><td>male  </td><td>115</td><td>3</td></tr>\n",
       "\t<tr><td>57</td><td>female</td><td>174</td><td>1</td></tr>\n",
       "\t<tr><td>38</td><td>male  </td><td>173</td><td>0</td></tr>\n",
       "</tbody>\n",
       "</table>\n"
      ],
      "text/latex": [
       "A tibble: 302 × 4\n",
       "\\begin{tabular}{llll}\n",
       " age & sex & max\\_heartrate & risk\\_level\\\\\n",
       " <dbl> & <chr> & <dbl> & <fct>\\\\\n",
       "\\hline\n",
       "\t 67 & male & 108 & 2\\\\\n",
       "\t 67 & male & 129 & 1\\\\\n",
       "\t 37 & male & 187 & 0\\\\\n",
       "\t ⋮ & ⋮ & ⋮ & ⋮\\\\\n",
       "\t 57 & male   & 115 & 3\\\\\n",
       "\t 57 & female & 174 & 1\\\\\n",
       "\t 38 & male   & 173 & 0\\\\\n",
       "\\end{tabular}\n"
      ],
      "text/markdown": [
       "\n",
       "A tibble: 302 × 4\n",
       "\n",
       "| age &lt;dbl&gt; | sex &lt;chr&gt; | max_heartrate &lt;dbl&gt; | risk_level &lt;fct&gt; |\n",
       "|---|---|---|---|\n",
       "| 67 | male | 108 | 2 |\n",
       "| 67 | male | 129 | 1 |\n",
       "| 37 | male | 187 | 0 |\n",
       "| ⋮ | ⋮ | ⋮ | ⋮ |\n",
       "| 57 | male   | 115 | 3 |\n",
       "| 57 | female | 174 | 1 |\n",
       "| 38 | male   | 173 | 0 |\n",
       "\n"
      ],
      "text/plain": [
       "    age sex    max_heartrate risk_level\n",
       "1   67  male   108           2         \n",
       "2   67  male   129           1         \n",
       "3   37  male   187           0         \n",
       "⋮   ⋮   ⋮      ⋮             ⋮         \n",
       "300 57  male   115           3         \n",
       "301 57  female 174           1         \n",
       "302 38  male   173           0         "
      ]
     },
     "metadata": {},
     "output_type": "display_data"
    }
   ],
   "source": [
    "cleveland_data<-read_csv(\"https://archive.ics.uci.edu/ml/machine-learning-databases/heart-disease/processed.cleveland.data\")\n",
    "colnames(cleveland_data)<-c(\"age\",\"sex\",\"chest_pain\",\"rest_bps\",\"cholestrol_level\",\"high_fbs?\",\n",
    "                            \"rest_electrographics\",\"max_heartrate\",\"exercise_induced_angina\",\"oldpeak\",\"slope\",\n",
    "                            \"colored_major_vessels\",\"thal\",\"risk_level\")\n",
    "                          \n",
    "cleveland_data<-cleveland_data|>\n",
    "                    select(age, sex, max_heartrate, risk_level)|>\n",
    "                    mutate(risk_level = as_factor(risk_level))|>\n",
    "                    mutate(sex=case_when(sex==0~\"female\",sex==1~\"male\"))\n",
    "cleveland_data"
   ]
  },
  {
   "cell_type": "markdown",
   "id": "848ef407-e4cd-4d38-8e80-d916dcfdfadf",
   "metadata": {},
   "source": [
    "Processed Cleveland Heart Dataset: \n",
    "-obtained from UCI Machine Learning Repository-Center for Machine Learning and Intelligent Systems\n",
    "-data cleaned and wrangled, changed variables to human readable names.\n",
    "Note: generally 0=normal and 1-4=abnormal, presence of, or potential risk"
   ]
  },
  {
   "cell_type": "code",
   "execution_count": 6,
   "id": "baebc79d-51e8-4785-8a7d-71d3d2615d71",
   "metadata": {},
   "outputs": [
    {
     "data": {
      "text/html": [
       "<table class=\"dataframe\">\n",
       "<caption>A tibble: 225 × 4</caption>\n",
       "<thead>\n",
       "\t<tr><th scope=col>age</th><th scope=col>sex</th><th scope=col>max_heartrate</th><th scope=col>risk_level</th></tr>\n",
       "\t<tr><th scope=col>&lt;dbl&gt;</th><th scope=col>&lt;chr&gt;</th><th scope=col>&lt;dbl&gt;</th><th scope=col>&lt;fct&gt;</th></tr>\n",
       "</thead>\n",
       "<tbody>\n",
       "\t<tr><td>37</td><td>male  </td><td>187</td><td>0</td></tr>\n",
       "\t<tr><td>41</td><td>female</td><td>172</td><td>0</td></tr>\n",
       "\t<tr><td>57</td><td>female</td><td>163</td><td>0</td></tr>\n",
       "\t<tr><td>⋮</td><td>⋮</td><td>⋮</td><td>⋮</td></tr>\n",
       "\t<tr><td>61</td><td>male  </td><td>125</td><td>4</td></tr>\n",
       "\t<tr><td>55</td><td>female</td><td>130</td><td>3</td></tr>\n",
       "\t<tr><td>59</td><td>male  </td><td> 90</td><td>3</td></tr>\n",
       "</tbody>\n",
       "</table>\n"
      ],
      "text/latex": [
       "A tibble: 225 × 4\n",
       "\\begin{tabular}{llll}\n",
       " age & sex & max\\_heartrate & risk\\_level\\\\\n",
       " <dbl> & <chr> & <dbl> & <fct>\\\\\n",
       "\\hline\n",
       "\t 37 & male   & 187 & 0\\\\\n",
       "\t 41 & female & 172 & 0\\\\\n",
       "\t 57 & female & 163 & 0\\\\\n",
       "\t ⋮ & ⋮ & ⋮ & ⋮\\\\\n",
       "\t 61 & male   & 125 & 4\\\\\n",
       "\t 55 & female & 130 & 3\\\\\n",
       "\t 59 & male   &  90 & 3\\\\\n",
       "\\end{tabular}\n"
      ],
      "text/markdown": [
       "\n",
       "A tibble: 225 × 4\n",
       "\n",
       "| age &lt;dbl&gt; | sex &lt;chr&gt; | max_heartrate &lt;dbl&gt; | risk_level &lt;fct&gt; |\n",
       "|---|---|---|---|\n",
       "| 37 | male   | 187 | 0 |\n",
       "| 41 | female | 172 | 0 |\n",
       "| 57 | female | 163 | 0 |\n",
       "| ⋮ | ⋮ | ⋮ | ⋮ |\n",
       "| 61 | male   | 125 | 4 |\n",
       "| 55 | female | 130 | 3 |\n",
       "| 59 | male   |  90 | 3 |\n",
       "\n"
      ],
      "text/plain": [
       "    age sex    max_heartrate risk_level\n",
       "1   37  male   187           0         \n",
       "2   41  female 172           0         \n",
       "3   57  female 163           0         \n",
       "⋮   ⋮   ⋮      ⋮             ⋮         \n",
       "223 61  male   125           4         \n",
       "224 55  female 130           3         \n",
       "225 59  male    90           3         "
      ]
     },
     "metadata": {},
     "output_type": "display_data"
    },
    {
     "data": {
      "text/html": [
       "<table class=\"dataframe\">\n",
       "<caption>A tibble: 77 × 4</caption>\n",
       "<thead>\n",
       "\t<tr><th scope=col>age</th><th scope=col>sex</th><th scope=col>max_heartrate</th><th scope=col>risk_level</th></tr>\n",
       "\t<tr><th scope=col>&lt;dbl&gt;</th><th scope=col>&lt;chr&gt;</th><th scope=col>&lt;dbl&gt;</th><th scope=col>&lt;fct&gt;</th></tr>\n",
       "</thead>\n",
       "<tbody>\n",
       "\t<tr><td>56</td><td>male</td><td>178</td><td>0</td></tr>\n",
       "\t<tr><td>57</td><td>male</td><td>148</td><td>0</td></tr>\n",
       "\t<tr><td>56</td><td>male</td><td>142</td><td>2</td></tr>\n",
       "\t<tr><td>⋮</td><td>⋮</td><td>⋮</td><td>⋮</td></tr>\n",
       "\t<tr><td>35</td><td>male</td><td>174</td><td>0</td></tr>\n",
       "\t<tr><td>58</td><td>male</td><td>140</td><td>4</td></tr>\n",
       "\t<tr><td>57</td><td>male</td><td>115</td><td>3</td></tr>\n",
       "</tbody>\n",
       "</table>\n"
      ],
      "text/latex": [
       "A tibble: 77 × 4\n",
       "\\begin{tabular}{llll}\n",
       " age & sex & max\\_heartrate & risk\\_level\\\\\n",
       " <dbl> & <chr> & <dbl> & <fct>\\\\\n",
       "\\hline\n",
       "\t 56 & male & 178 & 0\\\\\n",
       "\t 57 & male & 148 & 0\\\\\n",
       "\t 56 & male & 142 & 2\\\\\n",
       "\t ⋮ & ⋮ & ⋮ & ⋮\\\\\n",
       "\t 35 & male & 174 & 0\\\\\n",
       "\t 58 & male & 140 & 4\\\\\n",
       "\t 57 & male & 115 & 3\\\\\n",
       "\\end{tabular}\n"
      ],
      "text/markdown": [
       "\n",
       "A tibble: 77 × 4\n",
       "\n",
       "| age &lt;dbl&gt; | sex &lt;chr&gt; | max_heartrate &lt;dbl&gt; | risk_level &lt;fct&gt; |\n",
       "|---|---|---|---|\n",
       "| 56 | male | 178 | 0 |\n",
       "| 57 | male | 148 | 0 |\n",
       "| 56 | male | 142 | 2 |\n",
       "| ⋮ | ⋮ | ⋮ | ⋮ |\n",
       "| 35 | male | 174 | 0 |\n",
       "| 58 | male | 140 | 4 |\n",
       "| 57 | male | 115 | 3 |\n",
       "\n"
      ],
      "text/plain": [
       "   age sex  max_heartrate risk_level\n",
       "1  56  male 178           0         \n",
       "2  57  male 148           0         \n",
       "3  56  male 142           2         \n",
       "⋮  ⋮   ⋮    ⋮             ⋮         \n",
       "75 35  male 174           0         \n",
       "76 58  male 140           4         \n",
       "77 57  male 115           3         "
      ]
     },
     "metadata": {},
     "output_type": "display_data"
    }
   ],
   "source": [
    "set.seed(1111)\n",
    "\n",
    "cleveland_split <- initial_split(cleveland_data, prop = 0.75, strata = risk_level)\n",
    "cleveland_train <- training(cleveland_split)\n",
    "cleveland_test <- testing(cleveland_split)\n",
    "\n",
    "cleveland_train\n",
    "cleveland_test"
   ]
  },
  {
   "cell_type": "markdown",
   "id": "0f27d176-6829-47bd-b867-6f0289e25bb2",
   "metadata": {},
   "source": [
    "Split original dataset to Training(75%) and Testing(25%). Training data will be used to design predictive model (classifier) in the following code."
   ]
  },
  {
   "cell_type": "code",
   "execution_count": 14,
   "id": "9687bdeb-7745-4ccb-b3ed-d1e4f499593e",
   "metadata": {},
   "outputs": [
    {
     "data": {
      "image/png": "[encoded data removed]",
      "text/plain": [
       "plot without title"
      ]
     },
     "metadata": {
      "image/png": {
       "height": 420,
       "width": 420
      }
     },
     "output_type": "display_data"
    }
   ],
   "source": [
    "heart_recipe <- recipe(risk_level ~ age+max_heartrate, data = cleveland_train) |>\n",
    "                step_normalize(all_predictors())\n",
    "\n",
    "heart_vfold <- vfold_cv(cleveland_train, v = 5, strata = risk_level)\n",
    "\n",
    "heart_tune <- nearest_neighbor(weight_func = \"rectangular\", neighbors = tune()) |>\n",
    "  set_engine(\"kknn\") |>\n",
    "  set_mode(\"classification\")\n",
    "\n",
    "k_vals <- tibble(neighbors = seq(from = 25, to = 75, by = 1))\n",
    "\n",
    "heart_fit <- workflow() |>\n",
    "  add_recipe(heart_recipe) |>\n",
    "  add_model(heart_tune) |>\n",
    "      tune_grid(resamples = heart_vfold, grid = k_vals) |>\n",
    "      collect_metrics()\n",
    "\n",
    "accuracies <- heart_fit |> \n",
    "      filter(.metric == \"accuracy\")\n",
    "\n",
    "cross_val_plot <- ggplot(accuracies, aes(x = neighbors, y = mean))+\n",
    "      geom_point() +\n",
    "      geom_line() +\n",
    "      labs(x = \"Neighbors \", y = \"Accuracy Estimate\")\n",
    "\n",
    "cross_val_plot"
   ]
  },
  {
   "cell_type": "markdown",
   "id": "c3cfb920-2bec-4349-adc7-fa1dca31c63f",
   "metadata": {},
   "source": [
    "*Error: the graph seems to change everytime it is run. Can we fix this? It fluctuates between close to k=28, 55. Should we just pick one? "
   ]
  }
 ],
 "metadata": {
  "kernelspec": {
   "display_name": "R",
   "language": "R",
   "name": "ir"
  },
  "language_info": {
   "codemirror_mode": "r",
   "file_extension": ".r",
   "mimetype": "text/x-r-source",
   "name": "R",
   "pygments_lexer": "r",
   "version": "4.1.3"
  }
 },
 "nbformat": 4,
 "nbformat_minor": 5
}
