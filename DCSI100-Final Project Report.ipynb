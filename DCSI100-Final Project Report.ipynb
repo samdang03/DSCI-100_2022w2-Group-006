{
 "cells": [
  {
   "cell_type": "code",
   "execution_count": 4,
   "id": "60dc9952-cf76-425e-96bc-689ff64eb796",
   "metadata": {},
   "outputs": [
    {
     "name": "stderr",
     "output_type": "stream",
     "text": [
      "\n",
      "Attaching package: ‘rvest’\n",
      "\n",
      "\n",
      "The following object is masked from ‘package:readr’:\n",
      "\n",
      "    guess_encoding\n",
      "\n",
      "\n"
     ]
    }
   ],
   "source": [
    "library(tidyverse)\n",
    "library(tidymodels)\n",
    "library(repr)\n",
    "library(rvest)\n",
    "library(stringr)\n",
    "options(repr.matrix.max.rows = 6)\n",
    "set.seed(10)"
   ]
  },
  {
   "cell_type": "markdown",
   "id": "d6688ba5-3231-4def-84c0-5f52a518c7a4",
   "metadata": {},
   "source": [
    "Packages containing functions required for the following classification model"
   ]
  },
  {
   "cell_type": "code",
   "execution_count": 2,
   "id": "5e8545bd-bd59-4966-8166-d806595f3dc9",
   "metadata": {},
   "outputs": [
    {
     "name": "stderr",
     "output_type": "stream",
     "text": [
      "\u001b[1m\u001b[22mNew names:\n",
      "\u001b[36m•\u001b[39m `1.0` -> `1.0...2`\n",
      "\u001b[36m•\u001b[39m `1.0` -> `1.0...3`\n",
      "\u001b[36m•\u001b[39m `1.0` -> `1.0...6`\n",
      "\u001b[36m•\u001b[39m `0.0` -> `0.0...9`\n",
      "\u001b[36m•\u001b[39m `0.0` -> `0.0...12`\n",
      "\u001b[1mRows: \u001b[22m\u001b[34m302\u001b[39m \u001b[1mColumns: \u001b[22m\u001b[34m14\u001b[39m\n",
      "\u001b[36m──\u001b[39m \u001b[1mColumn specification\u001b[22m \u001b[36m────────────────────────────────────────────────────────\u001b[39m\n",
      "\u001b[1mDelimiter:\u001b[22m \",\"\n",
      "\u001b[31mchr\u001b[39m  (2): 0.0...12, 6.0\n",
      "\u001b[32mdbl\u001b[39m (12): 63.0, 1.0...2, 1.0...3, 145.0, 233.0, 1.0...6, 2.0, 150.0, 0.0...9...\n",
      "\n",
      "\u001b[36mℹ\u001b[39m Use `spec()` to retrieve the full column specification for this data.\n",
      "\u001b[36mℹ\u001b[39m Specify the column types or set `show_col_types = FALSE` to quiet this message.\n"
     ]
    },
    {
     "data": {
      "text/html": [
       "<table class=\"dataframe\">\n",
       "<caption>A tibble: 302 × 14</caption>\n",
       "<thead>\n",
       "\t<tr><th scope=col>age</th><th scope=col>sex</th><th scope=col>chest_pain</th><th scope=col>rest_bps</th><th scope=col>cholestrol_level</th><th scope=col>high_fbs?</th><th scope=col>rest_electrographics</th><th scope=col>max_heartrate</th><th scope=col>exercise_induced_angina</th><th scope=col>oldpeak</th><th scope=col>slope</th><th scope=col>colored_major_vessels</th><th scope=col>thal</th><th scope=col>risk_level</th></tr>\n",
       "\t<tr><th scope=col>&lt;dbl&gt;</th><th scope=col>&lt;chr&gt;</th><th scope=col>&lt;dbl&gt;</th><th scope=col>&lt;dbl&gt;</th><th scope=col>&lt;dbl&gt;</th><th scope=col>&lt;dbl&gt;</th><th scope=col>&lt;dbl&gt;</th><th scope=col>&lt;dbl&gt;</th><th scope=col>&lt;chr&gt;</th><th scope=col>&lt;dbl&gt;</th><th scope=col>&lt;dbl&gt;</th><th scope=col>&lt;chr&gt;</th><th scope=col>&lt;chr&gt;</th><th scope=col>&lt;dbl&gt;</th></tr>\n",
       "</thead>\n",
       "<tbody>\n",
       "\t<tr><td>67</td><td>male</td><td>4</td><td>160</td><td>286</td><td>0</td><td>2</td><td>108</td><td>Yes</td><td>1.5</td><td>2</td><td>3.0</td><td>3.0</td><td>2</td></tr>\n",
       "\t<tr><td>67</td><td>male</td><td>4</td><td>120</td><td>229</td><td>0</td><td>2</td><td>129</td><td>Yes</td><td>2.6</td><td>2</td><td>2.0</td><td>7.0</td><td>1</td></tr>\n",
       "\t<tr><td>37</td><td>male</td><td>3</td><td>130</td><td>250</td><td>0</td><td>0</td><td>187</td><td>No </td><td>3.5</td><td>3</td><td>0.0</td><td>3.0</td><td>0</td></tr>\n",
       "\t<tr><td>⋮</td><td>⋮</td><td>⋮</td><td>⋮</td><td>⋮</td><td>⋮</td><td>⋮</td><td>⋮</td><td>⋮</td><td>⋮</td><td>⋮</td><td>⋮</td><td>⋮</td><td>⋮</td></tr>\n",
       "\t<tr><td>57</td><td>male  </td><td>4</td><td>130</td><td>131</td><td>0</td><td>0</td><td>115</td><td>Yes</td><td>1.2</td><td>2</td><td>1.0</td><td>7.0</td><td>3</td></tr>\n",
       "\t<tr><td>57</td><td>female</td><td>2</td><td>130</td><td>236</td><td>0</td><td>2</td><td>174</td><td>No </td><td>0.0</td><td>2</td><td>1.0</td><td>3.0</td><td>1</td></tr>\n",
       "\t<tr><td>38</td><td>male  </td><td>3</td><td>138</td><td>175</td><td>0</td><td>0</td><td>173</td><td>No </td><td>0.0</td><td>1</td><td>?  </td><td>3.0</td><td>0</td></tr>\n",
       "</tbody>\n",
       "</table>\n"
      ],
      "text/latex": [
       "A tibble: 302 × 14\n",
       "\\begin{tabular}{llllllllllllll}\n",
       " age & sex & chest\\_pain & rest\\_bps & cholestrol\\_level & high\\_fbs? & rest\\_electrographics & max\\_heartrate & exercise\\_induced\\_angina & oldpeak & slope & colored\\_major\\_vessels & thal & risk\\_level\\\\\n",
       " <dbl> & <chr> & <dbl> & <dbl> & <dbl> & <dbl> & <dbl> & <dbl> & <chr> & <dbl> & <dbl> & <chr> & <chr> & <dbl>\\\\\n",
       "\\hline\n",
       "\t 67 & male & 4 & 160 & 286 & 0 & 2 & 108 & Yes & 1.5 & 2 & 3.0 & 3.0 & 2\\\\\n",
       "\t 67 & male & 4 & 120 & 229 & 0 & 2 & 129 & Yes & 2.6 & 2 & 2.0 & 7.0 & 1\\\\\n",
       "\t 37 & male & 3 & 130 & 250 & 0 & 0 & 187 & No  & 3.5 & 3 & 0.0 & 3.0 & 0\\\\\n",
       "\t ⋮ & ⋮ & ⋮ & ⋮ & ⋮ & ⋮ & ⋮ & ⋮ & ⋮ & ⋮ & ⋮ & ⋮ & ⋮ & ⋮\\\\\n",
       "\t 57 & male   & 4 & 130 & 131 & 0 & 0 & 115 & Yes & 1.2 & 2 & 1.0 & 7.0 & 3\\\\\n",
       "\t 57 & female & 2 & 130 & 236 & 0 & 2 & 174 & No  & 0.0 & 2 & 1.0 & 3.0 & 1\\\\\n",
       "\t 38 & male   & 3 & 138 & 175 & 0 & 0 & 173 & No  & 0.0 & 1 & ?   & 3.0 & 0\\\\\n",
       "\\end{tabular}\n"
      ],
      "text/markdown": [
       "\n",
       "A tibble: 302 × 14\n",
       "\n",
       "| age &lt;dbl&gt; | sex &lt;chr&gt; | chest_pain &lt;dbl&gt; | rest_bps &lt;dbl&gt; | cholestrol_level &lt;dbl&gt; | high_fbs? &lt;dbl&gt; | rest_electrographics &lt;dbl&gt; | max_heartrate &lt;dbl&gt; | exercise_induced_angina &lt;chr&gt; | oldpeak &lt;dbl&gt; | slope &lt;dbl&gt; | colored_major_vessels &lt;chr&gt; | thal &lt;chr&gt; | risk_level &lt;dbl&gt; |\n",
       "|---|---|---|---|---|---|---|---|---|---|---|---|---|---|\n",
       "| 67 | male | 4 | 160 | 286 | 0 | 2 | 108 | Yes | 1.5 | 2 | 3.0 | 3.0 | 2 |\n",
       "| 67 | male | 4 | 120 | 229 | 0 | 2 | 129 | Yes | 2.6 | 2 | 2.0 | 7.0 | 1 |\n",
       "| 37 | male | 3 | 130 | 250 | 0 | 0 | 187 | No  | 3.5 | 3 | 0.0 | 3.0 | 0 |\n",
       "| ⋮ | ⋮ | ⋮ | ⋮ | ⋮ | ⋮ | ⋮ | ⋮ | ⋮ | ⋮ | ⋮ | ⋮ | ⋮ | ⋮ |\n",
       "| 57 | male   | 4 | 130 | 131 | 0 | 0 | 115 | Yes | 1.2 | 2 | 1.0 | 7.0 | 3 |\n",
       "| 57 | female | 2 | 130 | 236 | 0 | 2 | 174 | No  | 0.0 | 2 | 1.0 | 3.0 | 1 |\n",
       "| 38 | male   | 3 | 138 | 175 | 0 | 0 | 173 | No  | 0.0 | 1 | ?   | 3.0 | 0 |\n",
       "\n"
      ],
      "text/plain": [
       "    age sex    chest_pain rest_bps cholestrol_level high_fbs?\n",
       "1   67  male   4          160      286              0        \n",
       "2   67  male   4          120      229              0        \n",
       "3   37  male   3          130      250              0        \n",
       "⋮   ⋮   ⋮      ⋮          ⋮        ⋮                ⋮        \n",
       "300 57  male   4          130      131              0        \n",
       "301 57  female 2          130      236              0        \n",
       "302 38  male   3          138      175              0        \n",
       "    rest_electrographics max_heartrate exercise_induced_angina oldpeak slope\n",
       "1   2                    108           Yes                     1.5     2    \n",
       "2   2                    129           Yes                     2.6     2    \n",
       "3   0                    187           No                      3.5     3    \n",
       "⋮   ⋮                    ⋮             ⋮                       ⋮       ⋮    \n",
       "300 0                    115           Yes                     1.2     2    \n",
       "301 2                    174           No                      0.0     2    \n",
       "302 0                    173           No                      0.0     1    \n",
       "    colored_major_vessels thal risk_level\n",
       "1   3.0                   3.0  2         \n",
       "2   2.0                   7.0  1         \n",
       "3   0.0                   3.0  0         \n",
       "⋮   ⋮                     ⋮    ⋮         \n",
       "300 1.0                   7.0  3         \n",
       "301 1.0                   3.0  1         \n",
       "302 ?                     3.0  0         "
      ]
     },
     "metadata": {},
     "output_type": "display_data"
    }
   ],
   "source": [
    "cleveland_data<-read_csv(\"https://archive.ics.uci.edu/ml/machine-learning-databases/heart-disease/processed.cleveland.data\")\n",
    "colnames(cleveland_data)<-c(\"age\",\"sex\",\"chest_pain\",\"rest_bps\",\"cholestrol_level\",\"high_fbs?\",\n",
    "                            \"rest_electrographics\",\"max_heartrate\",\"exercise_induced_angina\",\"oldpeak\",\"slope\",\n",
    "                            \"colored_major_vessels\",\"thal\",\"risk_level\")\n",
    "                          \n",
    "cleveland_data<-cleveland_data|>\n",
    "                    mutate(exercise_induced_angina=case_when(exercise_induced_angina==0~\"No\",exercise_induced_angina==1~\"Yes\"))|>\n",
    "                    mutate(sex=case_when(sex==0~\"female\",sex==1~\"male\"))\n",
    "cleveland_data"
   ]
  },
  {
   "cell_type": "markdown",
   "id": "848ef407-e4cd-4d38-8e80-d916dcfdfadf",
   "metadata": {},
   "source": [
    "Processed Cleveland Heart Dataset: \n",
    "-obtained from UCI Machine Learning Repository-Center for Machine Learning and Intelligent Systems\n",
    "-data cleaned and wrangled, changed variables to human readable names.\n",
    "Note: generally 0=normal and 1-4=abnormal, presence of, or potential risk"
   ]
  },
  {
   "cell_type": "code",
   "execution_count": 4,
   "id": "baebc79d-51e8-4785-8a7d-71d3d2615d71",
   "metadata": {},
   "outputs": [
    {
     "data": {
      "text/html": [
       "<table class=\"dataframe\">\n",
       "<caption>A tibble: 225 × 14</caption>\n",
       "<thead>\n",
       "\t<tr><th scope=col>age</th><th scope=col>sex</th><th scope=col>chest_pain</th><th scope=col>rest_bps</th><th scope=col>cholestrol_level</th><th scope=col>high_fbs?</th><th scope=col>rest_electrographics</th><th scope=col>max_heartrate</th><th scope=col>exercise_induced_angina</th><th scope=col>oldpeak</th><th scope=col>slope</th><th scope=col>colored_major_vessels</th><th scope=col>thal</th><th scope=col>risk_level</th></tr>\n",
       "\t<tr><th scope=col>&lt;dbl&gt;</th><th scope=col>&lt;chr&gt;</th><th scope=col>&lt;dbl&gt;</th><th scope=col>&lt;dbl&gt;</th><th scope=col>&lt;dbl&gt;</th><th scope=col>&lt;dbl&gt;</th><th scope=col>&lt;dbl&gt;</th><th scope=col>&lt;dbl&gt;</th><th scope=col>&lt;chr&gt;</th><th scope=col>&lt;dbl&gt;</th><th scope=col>&lt;dbl&gt;</th><th scope=col>&lt;chr&gt;</th><th scope=col>&lt;chr&gt;</th><th scope=col>&lt;dbl&gt;</th></tr>\n",
       "</thead>\n",
       "<tbody>\n",
       "\t<tr><td>37</td><td>male  </td><td>3</td><td>130</td><td>250</td><td>0</td><td>0</td><td>187</td><td>No </td><td>3.5</td><td>3</td><td>0.0</td><td>3.0</td><td>0</td></tr>\n",
       "\t<tr><td>41</td><td>female</td><td>2</td><td>130</td><td>204</td><td>0</td><td>2</td><td>172</td><td>No </td><td>1.4</td><td>1</td><td>0.0</td><td>3.0</td><td>0</td></tr>\n",
       "\t<tr><td>57</td><td>female</td><td>4</td><td>120</td><td>354</td><td>0</td><td>0</td><td>163</td><td>Yes</td><td>0.6</td><td>1</td><td>0.0</td><td>3.0</td><td>0</td></tr>\n",
       "\t<tr><td>⋮</td><td>⋮</td><td>⋮</td><td>⋮</td><td>⋮</td><td>⋮</td><td>⋮</td><td>⋮</td><td>⋮</td><td>⋮</td><td>⋮</td><td>⋮</td><td>⋮</td><td>⋮</td></tr>\n",
       "\t<tr><td>61</td><td>male  </td><td>4</td><td>138</td><td>166</td><td>0</td><td>2</td><td>125</td><td>Yes</td><td>3.6</td><td>2</td><td>1.0</td><td>3.0</td><td>4</td></tr>\n",
       "\t<tr><td>55</td><td>female</td><td>4</td><td>128</td><td>205</td><td>0</td><td>1</td><td>130</td><td>Yes</td><td>2.0</td><td>2</td><td>1.0</td><td>7.0</td><td>3</td></tr>\n",
       "\t<tr><td>59</td><td>male  </td><td>4</td><td>164</td><td>176</td><td>1</td><td>2</td><td> 90</td><td>No </td><td>1.0</td><td>2</td><td>2.0</td><td>6.0</td><td>3</td></tr>\n",
       "</tbody>\n",
       "</table>\n"
      ],
      "text/latex": [
       "A tibble: 225 × 14\n",
       "\\begin{tabular}{llllllllllllll}\n",
       " age & sex & chest\\_pain & rest\\_bps & cholestrol\\_level & high\\_fbs? & rest\\_electrographics & max\\_heartrate & exercise\\_induced\\_angina & oldpeak & slope & colored\\_major\\_vessels & thal & risk\\_level\\\\\n",
       " <dbl> & <chr> & <dbl> & <dbl> & <dbl> & <dbl> & <dbl> & <dbl> & <chr> & <dbl> & <dbl> & <chr> & <chr> & <dbl>\\\\\n",
       "\\hline\n",
       "\t 37 & male   & 3 & 130 & 250 & 0 & 0 & 187 & No  & 3.5 & 3 & 0.0 & 3.0 & 0\\\\\n",
       "\t 41 & female & 2 & 130 & 204 & 0 & 2 & 172 & No  & 1.4 & 1 & 0.0 & 3.0 & 0\\\\\n",
       "\t 57 & female & 4 & 120 & 354 & 0 & 0 & 163 & Yes & 0.6 & 1 & 0.0 & 3.0 & 0\\\\\n",
       "\t ⋮ & ⋮ & ⋮ & ⋮ & ⋮ & ⋮ & ⋮ & ⋮ & ⋮ & ⋮ & ⋮ & ⋮ & ⋮ & ⋮\\\\\n",
       "\t 61 & male   & 4 & 138 & 166 & 0 & 2 & 125 & Yes & 3.6 & 2 & 1.0 & 3.0 & 4\\\\\n",
       "\t 55 & female & 4 & 128 & 205 & 0 & 1 & 130 & Yes & 2.0 & 2 & 1.0 & 7.0 & 3\\\\\n",
       "\t 59 & male   & 4 & 164 & 176 & 1 & 2 &  90 & No  & 1.0 & 2 & 2.0 & 6.0 & 3\\\\\n",
       "\\end{tabular}\n"
      ],
      "text/markdown": [
       "\n",
       "A tibble: 225 × 14\n",
       "\n",
       "| age &lt;dbl&gt; | sex &lt;chr&gt; | chest_pain &lt;dbl&gt; | rest_bps &lt;dbl&gt; | cholestrol_level &lt;dbl&gt; | high_fbs? &lt;dbl&gt; | rest_electrographics &lt;dbl&gt; | max_heartrate &lt;dbl&gt; | exercise_induced_angina &lt;chr&gt; | oldpeak &lt;dbl&gt; | slope &lt;dbl&gt; | colored_major_vessels &lt;chr&gt; | thal &lt;chr&gt; | risk_level &lt;dbl&gt; |\n",
       "|---|---|---|---|---|---|---|---|---|---|---|---|---|---|\n",
       "| 37 | male   | 3 | 130 | 250 | 0 | 0 | 187 | No  | 3.5 | 3 | 0.0 | 3.0 | 0 |\n",
       "| 41 | female | 2 | 130 | 204 | 0 | 2 | 172 | No  | 1.4 | 1 | 0.0 | 3.0 | 0 |\n",
       "| 57 | female | 4 | 120 | 354 | 0 | 0 | 163 | Yes | 0.6 | 1 | 0.0 | 3.0 | 0 |\n",
       "| ⋮ | ⋮ | ⋮ | ⋮ | ⋮ | ⋮ | ⋮ | ⋮ | ⋮ | ⋮ | ⋮ | ⋮ | ⋮ | ⋮ |\n",
       "| 61 | male   | 4 | 138 | 166 | 0 | 2 | 125 | Yes | 3.6 | 2 | 1.0 | 3.0 | 4 |\n",
       "| 55 | female | 4 | 128 | 205 | 0 | 1 | 130 | Yes | 2.0 | 2 | 1.0 | 7.0 | 3 |\n",
       "| 59 | male   | 4 | 164 | 176 | 1 | 2 |  90 | No  | 1.0 | 2 | 2.0 | 6.0 | 3 |\n",
       "\n"
      ],
      "text/plain": [
       "    age sex    chest_pain rest_bps cholestrol_level high_fbs?\n",
       "1   37  male   3          130      250              0        \n",
       "2   41  female 2          130      204              0        \n",
       "3   57  female 4          120      354              0        \n",
       "⋮   ⋮   ⋮      ⋮          ⋮        ⋮                ⋮        \n",
       "223 61  male   4          138      166              0        \n",
       "224 55  female 4          128      205              0        \n",
       "225 59  male   4          164      176              1        \n",
       "    rest_electrographics max_heartrate exercise_induced_angina oldpeak slope\n",
       "1   0                    187           No                      3.5     3    \n",
       "2   2                    172           No                      1.4     1    \n",
       "3   0                    163           Yes                     0.6     1    \n",
       "⋮   ⋮                    ⋮             ⋮                       ⋮       ⋮    \n",
       "223 2                    125           Yes                     3.6     2    \n",
       "224 1                    130           Yes                     2.0     2    \n",
       "225 2                     90           No                      1.0     2    \n",
       "    colored_major_vessels thal risk_level\n",
       "1   0.0                   3.0  0         \n",
       "2   0.0                   3.0  0         \n",
       "3   0.0                   3.0  0         \n",
       "⋮   ⋮                     ⋮    ⋮         \n",
       "223 1.0                   3.0  4         \n",
       "224 1.0                   7.0  3         \n",
       "225 2.0                   6.0  3         "
      ]
     },
     "metadata": {},
     "output_type": "display_data"
    },
    {
     "data": {
      "text/html": [
       "<table class=\"dataframe\">\n",
       "<caption>A tibble: 77 × 14</caption>\n",
       "<thead>\n",
       "\t<tr><th scope=col>age</th><th scope=col>sex</th><th scope=col>chest_pain</th><th scope=col>rest_bps</th><th scope=col>cholestrol_level</th><th scope=col>high_fbs?</th><th scope=col>rest_electrographics</th><th scope=col>max_heartrate</th><th scope=col>exercise_induced_angina</th><th scope=col>oldpeak</th><th scope=col>slope</th><th scope=col>colored_major_vessels</th><th scope=col>thal</th><th scope=col>risk_level</th></tr>\n",
       "\t<tr><th scope=col>&lt;dbl&gt;</th><th scope=col>&lt;chr&gt;</th><th scope=col>&lt;dbl&gt;</th><th scope=col>&lt;dbl&gt;</th><th scope=col>&lt;dbl&gt;</th><th scope=col>&lt;dbl&gt;</th><th scope=col>&lt;dbl&gt;</th><th scope=col>&lt;dbl&gt;</th><th scope=col>&lt;chr&gt;</th><th scope=col>&lt;dbl&gt;</th><th scope=col>&lt;dbl&gt;</th><th scope=col>&lt;chr&gt;</th><th scope=col>&lt;chr&gt;</th><th scope=col>&lt;dbl&gt;</th></tr>\n",
       "</thead>\n",
       "<tbody>\n",
       "\t<tr><td>56</td><td>male</td><td>2</td><td>120</td><td>236</td><td>0</td><td>0</td><td>178</td><td>No </td><td>0.8</td><td>1</td><td>0.0</td><td>3.0</td><td>0</td></tr>\n",
       "\t<tr><td>57</td><td>male</td><td>4</td><td>140</td><td>192</td><td>0</td><td>0</td><td>148</td><td>No </td><td>0.4</td><td>2</td><td>0.0</td><td>6.0</td><td>0</td></tr>\n",
       "\t<tr><td>56</td><td>male</td><td>3</td><td>130</td><td>256</td><td>1</td><td>2</td><td>142</td><td>Yes</td><td>0.6</td><td>2</td><td>1.0</td><td>6.0</td><td>2</td></tr>\n",
       "\t<tr><td>⋮</td><td>⋮</td><td>⋮</td><td>⋮</td><td>⋮</td><td>⋮</td><td>⋮</td><td>⋮</td><td>⋮</td><td>⋮</td><td>⋮</td><td>⋮</td><td>⋮</td><td>⋮</td></tr>\n",
       "\t<tr><td>35</td><td>male</td><td>2</td><td>122</td><td>192</td><td>0</td><td>0</td><td>174</td><td>No </td><td>0.0</td><td>1</td><td>0.0</td><td>3.0</td><td>0</td></tr>\n",
       "\t<tr><td>58</td><td>male</td><td>4</td><td>114</td><td>318</td><td>0</td><td>1</td><td>140</td><td>No </td><td>4.4</td><td>3</td><td>3.0</td><td>6.0</td><td>4</td></tr>\n",
       "\t<tr><td>57</td><td>male</td><td>4</td><td>130</td><td>131</td><td>0</td><td>0</td><td>115</td><td>Yes</td><td>1.2</td><td>2</td><td>1.0</td><td>7.0</td><td>3</td></tr>\n",
       "</tbody>\n",
       "</table>\n"
      ],
      "text/latex": [
       "A tibble: 77 × 14\n",
       "\\begin{tabular}{llllllllllllll}\n",
       " age & sex & chest\\_pain & rest\\_bps & cholestrol\\_level & high\\_fbs? & rest\\_electrographics & max\\_heartrate & exercise\\_induced\\_angina & oldpeak & slope & colored\\_major\\_vessels & thal & risk\\_level\\\\\n",
       " <dbl> & <chr> & <dbl> & <dbl> & <dbl> & <dbl> & <dbl> & <dbl> & <chr> & <dbl> & <dbl> & <chr> & <chr> & <dbl>\\\\\n",
       "\\hline\n",
       "\t 56 & male & 2 & 120 & 236 & 0 & 0 & 178 & No  & 0.8 & 1 & 0.0 & 3.0 & 0\\\\\n",
       "\t 57 & male & 4 & 140 & 192 & 0 & 0 & 148 & No  & 0.4 & 2 & 0.0 & 6.0 & 0\\\\\n",
       "\t 56 & male & 3 & 130 & 256 & 1 & 2 & 142 & Yes & 0.6 & 2 & 1.0 & 6.0 & 2\\\\\n",
       "\t ⋮ & ⋮ & ⋮ & ⋮ & ⋮ & ⋮ & ⋮ & ⋮ & ⋮ & ⋮ & ⋮ & ⋮ & ⋮ & ⋮\\\\\n",
       "\t 35 & male & 2 & 122 & 192 & 0 & 0 & 174 & No  & 0.0 & 1 & 0.0 & 3.0 & 0\\\\\n",
       "\t 58 & male & 4 & 114 & 318 & 0 & 1 & 140 & No  & 4.4 & 3 & 3.0 & 6.0 & 4\\\\\n",
       "\t 57 & male & 4 & 130 & 131 & 0 & 0 & 115 & Yes & 1.2 & 2 & 1.0 & 7.0 & 3\\\\\n",
       "\\end{tabular}\n"
      ],
      "text/markdown": [
       "\n",
       "A tibble: 77 × 14\n",
       "\n",
       "| age &lt;dbl&gt; | sex &lt;chr&gt; | chest_pain &lt;dbl&gt; | rest_bps &lt;dbl&gt; | cholestrol_level &lt;dbl&gt; | high_fbs? &lt;dbl&gt; | rest_electrographics &lt;dbl&gt; | max_heartrate &lt;dbl&gt; | exercise_induced_angina &lt;chr&gt; | oldpeak &lt;dbl&gt; | slope &lt;dbl&gt; | colored_major_vessels &lt;chr&gt; | thal &lt;chr&gt; | risk_level &lt;dbl&gt; |\n",
       "|---|---|---|---|---|---|---|---|---|---|---|---|---|---|\n",
       "| 56 | male | 2 | 120 | 236 | 0 | 0 | 178 | No  | 0.8 | 1 | 0.0 | 3.0 | 0 |\n",
       "| 57 | male | 4 | 140 | 192 | 0 | 0 | 148 | No  | 0.4 | 2 | 0.0 | 6.0 | 0 |\n",
       "| 56 | male | 3 | 130 | 256 | 1 | 2 | 142 | Yes | 0.6 | 2 | 1.0 | 6.0 | 2 |\n",
       "| ⋮ | ⋮ | ⋮ | ⋮ | ⋮ | ⋮ | ⋮ | ⋮ | ⋮ | ⋮ | ⋮ | ⋮ | ⋮ | ⋮ |\n",
       "| 35 | male | 2 | 122 | 192 | 0 | 0 | 174 | No  | 0.0 | 1 | 0.0 | 3.0 | 0 |\n",
       "| 58 | male | 4 | 114 | 318 | 0 | 1 | 140 | No  | 4.4 | 3 | 3.0 | 6.0 | 4 |\n",
       "| 57 | male | 4 | 130 | 131 | 0 | 0 | 115 | Yes | 1.2 | 2 | 1.0 | 7.0 | 3 |\n",
       "\n"
      ],
      "text/plain": [
       "   age sex  chest_pain rest_bps cholestrol_level high_fbs? rest_electrographics\n",
       "1  56  male 2          120      236              0         0                   \n",
       "2  57  male 4          140      192              0         0                   \n",
       "3  56  male 3          130      256              1         2                   \n",
       "⋮  ⋮   ⋮    ⋮          ⋮        ⋮                ⋮         ⋮                   \n",
       "75 35  male 2          122      192              0         0                   \n",
       "76 58  male 4          114      318              0         1                   \n",
       "77 57  male 4          130      131              0         0                   \n",
       "   max_heartrate exercise_induced_angina oldpeak slope colored_major_vessels\n",
       "1  178           No                      0.8     1     0.0                  \n",
       "2  148           No                      0.4     2     0.0                  \n",
       "3  142           Yes                     0.6     2     1.0                  \n",
       "⋮  ⋮             ⋮                       ⋮       ⋮     ⋮                    \n",
       "75 174           No                      0.0     1     0.0                  \n",
       "76 140           No                      4.4     3     3.0                  \n",
       "77 115           Yes                     1.2     2     1.0                  \n",
       "   thal risk_level\n",
       "1  3.0  0         \n",
       "2  6.0  0         \n",
       "3  6.0  2         \n",
       "⋮  ⋮    ⋮         \n",
       "75 3.0  0         \n",
       "76 6.0  4         \n",
       "77 7.0  3         "
      ]
     },
     "metadata": {},
     "output_type": "display_data"
    }
   ],
   "source": [
    "set.seed(1111)\n",
    "\n",
    "cleveland_split <- initial_split(cleveland_data, prop = 0.75, strata = risk_level)\n",
    "cleveland_train <- training(cleveland_split)\n",
    "cleveland_test <- testing(cleveland_split)\n",
    "\n",
    "cleveland_train\n",
    "cleveland_test"
   ]
  },
  {
   "cell_type": "markdown",
   "id": "0f27d176-6829-47bd-b867-6f0289e25bb2",
   "metadata": {},
   "source": [
    "Split original dataset to Training(75%) and Testing(25%). Training data will be used to design predictive model (classifier) in the following code."
   ]
  },
  {
   "cell_type": "code",
   "execution_count": null,
   "id": "9687bdeb-7745-4ccb-b3ed-d1e4f499593e",
   "metadata": {},
   "outputs": [],
   "source": []
  }
 ],
 "metadata": {
  "kernelspec": {
   "display_name": "R",
   "language": "R",
   "name": "ir"
  },
  "language_info": {
   "codemirror_mode": "r",
   "file_extension": ".r",
   "mimetype": "text/x-r-source",
   "name": "R",
   "pygments_lexer": "r",
   "version": "4.1.3"
  }
 },
 "nbformat": 4,
 "nbformat_minor": 5
}
